{
 "cells": [
  {
   "cell_type": "markdown",
   "metadata": {},
   "source": [
    "# Prédiction des tags"
   ]
  },
  {
   "cell_type": "code",
   "execution_count": 1,
   "metadata": {},
   "outputs": [
    {
     "data": {
      "text/html": [
       "<div>\n",
       "<style scoped>\n",
       "    .dataframe tbody tr th:only-of-type {\n",
       "        vertical-align: middle;\n",
       "    }\n",
       "\n",
       "    .dataframe tbody tr th {\n",
       "        vertical-align: top;\n",
       "    }\n",
       "\n",
       "    .dataframe thead th {\n",
       "        text-align: right;\n",
       "    }\n",
       "</style>\n",
       "<table border=\"1\" class=\"dataframe\">\n",
       "  <thead>\n",
       "    <tr style=\"text-align: right;\">\n",
       "      <th></th>\n",
       "      <th>stem_words</th>\n",
       "      <th>imp_words</th>\n",
       "      <th>Tags</th>\n",
       "    </tr>\n",
       "  </thead>\n",
       "  <tbody>\n",
       "    <tr>\n",
       "      <th>0</th>\n",
       "      <td>convert decimal double c# want use track bar c...</td>\n",
       "      <td>convert decimal double c# want track bar chang...</td>\n",
       "      <td>c#  floating-point  type-conversion  double  ...</td>\n",
       "    </tr>\n",
       "    <tr>\n",
       "      <th>1</th>\n",
       "      <td>width collapse percentage width child element ...</td>\n",
       "      <td>width collapse percentage width child element ...</td>\n",
       "      <td>html  css  internet-explorer-7</td>\n",
       "    </tr>\n",
       "    <tr>\n",
       "      <th>2</th>\n",
       "      <td>calculate someone age base datetime type birth...</td>\n",
       "      <td>calculate someone age base datetime type give ...</td>\n",
       "      <td>c#  .net  datetime</td>\n",
       "    </tr>\n",
       "    <tr>\n",
       "      <th>3</th>\n",
       "      <td>calculate relative time c# give specific datet...</td>\n",
       "      <td>calculate relative time c# give specific datet...</td>\n",
       "      <td>c#  datetime  time  datediff  relative-time-s...</td>\n",
       "    </tr>\n",
       "    <tr>\n",
       "      <th>4</th>\n",
       "      <td>determine user timezone standards way web serv...</td>\n",
       "      <td>determine user timezone standards way web serv...</td>\n",
       "      <td>html  browser  timezone  user-agent  timezone...</td>\n",
       "    </tr>\n",
       "    <tr>\n",
       "      <th>...</th>\n",
       "      <td>...</td>\n",
       "      <td>...</td>\n",
       "      <td>...</td>\n",
       "    </tr>\n",
       "    <tr>\n",
       "      <th>29096</th>\n",
       "      <td>extract decimal part float point number extrac...</td>\n",
       "      <td>extract decimal part float point number extrac...</td>\n",
       "      <td>c  floating-point  decimal  numbers</td>\n",
       "    </tr>\n",
       "    <tr>\n",
       "      <th>29097</th>\n",
       "      <td>flash load twice workaround investigate report...</td>\n",
       "      <td>flash load twice workaround investigate report...</td>\n",
       "      <td>flash  swfobject</td>\n",
       "    </tr>\n",
       "    <tr>\n",
       "      <th>29098</th>\n",
       "      <td>etag vs header expire look around able figure ...</td>\n",
       "      <td>vs header expire look around able figure expir...</td>\n",
       "      <td>http  caching  etag  expires-header</td>\n",
       "    </tr>\n",
       "    <tr>\n",
       "      <th>29099</th>\n",
       "      <td>determine longest similar portion several stri...</td>\n",
       "      <td>determine similar portion several string per t...</td>\n",
       "      <td>perl  algorithm  string  similarity</td>\n",
       "    </tr>\n",
       "    <tr>\n",
       "      <th>29100</th>\n",
       "      <td>validation binary search tree read exercise in...</td>\n",
       "      <td>validation binary search tree read exercise in...</td>\n",
       "      <td>algorithm  data-structures  binary-search-tree</td>\n",
       "    </tr>\n",
       "  </tbody>\n",
       "</table>\n",
       "<p>29101 rows × 3 columns</p>\n",
       "</div>"
      ],
      "text/plain": [
       "                                              stem_words  \\\n",
       "0      convert decimal double c# want use track bar c...   \n",
       "1      width collapse percentage width child element ...   \n",
       "2      calculate someone age base datetime type birth...   \n",
       "3      calculate relative time c# give specific datet...   \n",
       "4      determine user timezone standards way web serv...   \n",
       "...                                                  ...   \n",
       "29096  extract decimal part float point number extrac...   \n",
       "29097  flash load twice workaround investigate report...   \n",
       "29098  etag vs header expire look around able figure ...   \n",
       "29099  determine longest similar portion several stri...   \n",
       "29100  validation binary search tree read exercise in...   \n",
       "\n",
       "                                               imp_words  \\\n",
       "0      convert decimal double c# want track bar chang...   \n",
       "1      width collapse percentage width child element ...   \n",
       "2      calculate someone age base datetime type give ...   \n",
       "3      calculate relative time c# give specific datet...   \n",
       "4      determine user timezone standards way web serv...   \n",
       "...                                                  ...   \n",
       "29096  extract decimal part float point number extrac...   \n",
       "29097  flash load twice workaround investigate report...   \n",
       "29098  vs header expire look around able figure expir...   \n",
       "29099  determine similar portion several string per t...   \n",
       "29100  validation binary search tree read exercise in...   \n",
       "\n",
       "                                                    Tags  \n",
       "0       c#  floating-point  type-conversion  double  ...  \n",
       "1                        html  css  internet-explorer-7   \n",
       "2                                    c#  .net  datetime   \n",
       "3       c#  datetime  time  datediff  relative-time-s...  \n",
       "4       html  browser  timezone  user-agent  timezone...  \n",
       "...                                                  ...  \n",
       "29096               c  floating-point  decimal  numbers   \n",
       "29097                                  flash  swfobject   \n",
       "29098               http  caching  etag  expires-header   \n",
       "29099               perl  algorithm  string  similarity   \n",
       "29100    algorithm  data-structures  binary-search-tree   \n",
       "\n",
       "[29101 rows x 3 columns]"
      ]
     },
     "execution_count": 1,
     "metadata": {},
     "output_type": "execute_result"
    }
   ],
   "source": [
    "import pandas as pd\n",
    "import numpy as np\n",
    "import matplotlib.pyplot as plt\n",
    "\n",
    "pd.set_option(\"display.max_columns\", None)\n",
    "\n",
    "datas = pd.read_csv(\"../P5_06_transf_datas.csv\")\n",
    "\n",
    "datas"
   ]
  },
  {
   "cell_type": "markdown",
   "metadata": {},
   "source": [
    "Je sépare le jeu de données en un jeu d'entraînement et un de test."
   ]
  },
  {
   "cell_type": "code",
   "execution_count": 2,
   "metadata": {},
   "outputs": [],
   "source": [
    "X_train = datas[\"imp_words\"]\n",
    "Y_train = datas[\"Tags\"]"
   ]
  },
  {
   "cell_type": "code",
   "execution_count": 3,
   "metadata": {},
   "outputs": [],
   "source": [
    "# samples = np.random.choice(len(X_train), 5000, replace=False)\n",
    "# X_train = X_train[samples]\n",
    "# Y_train = Y_train[samples]"
   ]
  },
  {
   "cell_type": "markdown",
   "metadata": {},
   "source": [
    "Je  transforme X et y."
   ]
  },
  {
   "cell_type": "code",
   "execution_count": 4,
   "metadata": {},
   "outputs": [],
   "source": [
    "from sklearn.base import TransformerMixin\n",
    "from sklearn.feature_extraction.text import CountVectorizer\n",
    "\n",
    "class TfidfVectorsToArray(TransformerMixin):\n",
    "    def fit(self, X, y=None, **fit_params):\n",
    "        return self\n",
    "\n",
    "    def transform(self, X, y=None, **fit_params):\n",
    "        return X.toarray()\n",
    "\n",
    "# class YToBagOfWords(CountVectorizer):\n",
    "#     def fit(self, X= None, y= y_train, **fit_params):\n",
    "#         return super().fit(y)\n",
    "\n",
    "#     def transform(self, X= None, y= y_train, **fit_params):\n",
    "#         return super().transform(y)\n",
    "\n",
    "#     def fit_transform(self, X= None, y= y_train, **fit_params):\n",
    "#         return super().fit_transform(y)\n",
    "\n",
    "# class YToArray(TransformerMixin):\n",
    "#     def fit(self, X= None, y= y_train, **fit_params):\n",
    "#         return self\n",
    "\n",
    "#     def transform(self, X= None, y= y_train, **fit_params):\n",
    "#         return y.toarray()"
   ]
  },
  {
   "cell_type": "code",
   "execution_count": 5,
   "metadata": {},
   "outputs": [],
   "source": [
    "from sklearn.feature_extraction.text import TfidfVectorizer, CountVectorizer\n",
    "from sklearn.decomposition import PCA, TruncatedSVD\n",
    "from sklearn.multiclass import OneVsRestClassifier\n",
    "from sklearn.linear_model import SGDClassifier\n",
    "from sklearn.pipeline import Pipeline\n",
    "\n",
    "pipeline = Pipeline(steps=[\n",
    "    (\"tfidf\", TfidfVectorizer()),\n",
    "    (\"toarray\", TfidfVectorsToArray()),\n",
    "    (\"PCA\", PCA(n_components= 1500)),\n",
    "    (\"clf\", OneVsRestClassifier(\n",
    "        SGDClassifier(loss= \"modified_huber\", class_weight= None, \n",
    "        penalty= \"l1\", alpha= 0.0001, l1_ratio= 0.15, early_stopping= True, \n",
    "        random_state= 42)))\n",
    "    ])\n",
    "\n",
    "# tfidf_vect = TfidfVectorizer(token_pattern= r'[\\S]+')\n",
    "\n",
    "# x_train = tfidf_vect.fit_transform(X_train).toarray()\n"
   ]
  },
  {
   "cell_type": "code",
   "execution_count": 6,
   "metadata": {},
   "outputs": [],
   "source": [
    "# component = 1500\n",
    "\n",
    "# pca = PCA(n_components= component)\n",
    "# pca.fit(x_train)\n",
    "\n",
    "# pca.explained_variance_ratio_.cumsum()[-1]"
   ]
  },
  {
   "cell_type": "code",
   "execution_count": 7,
   "metadata": {},
   "outputs": [],
   "source": [
    "# x_train_pca = pca.transform(x_train)\n"
   ]
  },
  {
   "cell_type": "code",
   "execution_count": 8,
   "metadata": {},
   "outputs": [],
   "source": [
    "count_vect = CountVectorizer(token_pattern= r'[\\S]+', min_df= 10)\n",
    "y_train = count_vect.fit_transform(Y_train).toarray()\n"
   ]
  },
  {
   "cell_type": "code",
   "execution_count": 9,
   "metadata": {},
   "outputs": [],
   "source": [
    "with open(\"tags.txt\", \"w\") as file:\n",
    "    file.write(\" \".join(count_vect.get_feature_names_out()))"
   ]
  },
  {
   "cell_type": "code",
   "execution_count": 10,
   "metadata": {},
   "outputs": [],
   "source": [
    "# y_train.shape"
   ]
  },
  {
   "cell_type": "markdown",
   "metadata": {},
   "source": [
    "'score': 0.9919314591700134,\n",
    " 'loss': 'modified_huber',\n",
    " 'class_weight': None,\n",
    " 'penalty': 'l1',\n",
    " 'alpha': 0.0001,\n",
    " 'l1_ratio': 0.15"
   ]
  },
  {
   "cell_type": "code",
   "execution_count": 11,
   "metadata": {},
   "outputs": [
    {
     "data": {
      "text/plain": [
       "Pipeline(steps=[('tfidf', TfidfVectorizer()),\n",
       "                ('toarray',\n",
       "                 <__main__.TfidfVectorsToArray object at 0x0000021C4AFD0E80>),\n",
       "                ('PCA', PCA(n_components=1500)),\n",
       "                ('clf',\n",
       "                 OneVsRestClassifier(estimator=SGDClassifier(early_stopping=True,\n",
       "                                                             loss='modified_huber',\n",
       "                                                             penalty='l1',\n",
       "                                                             random_state=42)))])"
      ]
     },
     "execution_count": 11,
     "metadata": {},
     "output_type": "execute_result"
    }
   ],
   "source": [
    "# from sklearn.multiclass import OneVsRestClassifier\n",
    "# from sklearn.linear_model import SGDClassifier\n",
    "\n",
    "# clf = OneVsRestClassifier(SGDClassifier(loss= \"modified_huber\", class_weight= None, \n",
    "#     penalty= \"l1\", alpha= 0.0001, l1_ratio= 0.15, early_stopping= True, \n",
    "#     random_state= 42))\n",
    "\n",
    "pipeline.fit(X_train, y_train)"
   ]
  },
  {
   "cell_type": "code",
   "execution_count": 19,
   "metadata": {},
   "outputs": [],
   "source": [
    "pred = pipeline.predict_proba([\"c# don't open mysql database with windows access file \"])"
   ]
  },
  {
   "cell_type": "code",
   "execution_count": 13,
   "metadata": {},
   "outputs": [
    {
     "data": {
      "text/plain": [
       "(1, 1068)"
      ]
     },
     "execution_count": 13,
     "metadata": {},
     "output_type": "execute_result"
    }
   ],
   "source": [
    "pred.shape"
   ]
  },
  {
   "cell_type": "code",
   "execution_count": 20,
   "metadata": {},
   "outputs": [],
   "source": [
    "results_preds = np.zeros(pred.shape)\n",
    "\n",
    "pred_sorted = np.sort(pred, axis= 1)\n",
    "diff = pred_sorted[:, -1] - np.log10(pred_sorted[:, -1] +1)\n",
    "\n",
    "results_preds = np.where(pred > diff.reshape(-1, 1), 1, 0)"
   ]
  },
  {
   "cell_type": "code",
   "execution_count": 15,
   "metadata": {},
   "outputs": [
    {
     "data": {
      "text/plain": [
       "(1, 1068)"
      ]
     },
     "execution_count": 15,
     "metadata": {},
     "output_type": "execute_result"
    }
   ],
   "source": [
    "results_preds.shape"
   ]
  },
  {
   "cell_type": "code",
   "execution_count": 16,
   "metadata": {},
   "outputs": [],
   "source": [
    "with open(\"tags.txt\", \"r\") as file:\n",
    "    cols = file.read().split()\n"
   ]
  },
  {
   "cell_type": "code",
   "execution_count": 21,
   "metadata": {},
   "outputs": [
    {
     "data": {
      "text/plain": [
       "'mysql'"
      ]
     },
     "execution_count": 21,
     "metadata": {},
     "output_type": "execute_result"
    }
   ],
   "source": [
    "# cols = count_vect.get_feature_names_out()\n",
    "\n",
    "results_df = pd.DataFrame(results_preds, columns= cols).T.reset_index()\n",
    "\" \".join(results_df.loc[results_df[0] > 0, \"index\"].values)"
   ]
  },
  {
   "cell_type": "markdown",
   "metadata": {},
   "source": [
    "Sauvegarde du modèle"
   ]
  },
  {
   "cell_type": "code",
   "execution_count": 23,
   "metadata": {},
   "outputs": [
    {
     "data": {
      "text/plain": [
       "['P5_tags_prediction.sav']"
      ]
     },
     "execution_count": 23,
     "metadata": {},
     "output_type": "execute_result"
    }
   ],
   "source": [
    "# import joblib\n",
    "\n",
    "# joblib.dump(pipeline, \"P5_tags_prediction.sav\")"
   ]
  }
 ],
 "metadata": {
  "interpreter": {
   "hash": "c41a7b1d73be963b12274ea26e97c36183a8e874bdf8628a8c7c44cf12df08ab"
  },
  "kernelspec": {
   "display_name": "Python 3.9.9 64-bit (windows store)",
   "language": "python",
   "name": "python3"
  },
  "language_info": {
   "codemirror_mode": {
    "name": "ipython",
    "version": 3
   },
   "file_extension": ".py",
   "mimetype": "text/x-python",
   "name": "python",
   "nbconvert_exporter": "python",
   "pygments_lexer": "ipython3",
   "version": "3.9.9"
  },
  "orig_nbformat": 4
 },
 "nbformat": 4,
 "nbformat_minor": 2
}
