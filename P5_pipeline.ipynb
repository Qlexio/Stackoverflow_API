{
 "cells": [
  {
   "cell_type": "markdown",
   "metadata": {},
   "source": [
    "# Prédiction des tags"
   ]
  },
  {
   "cell_type": "code",
   "execution_count": null,
   "metadata": {},
   "outputs": [],
   "source": [
    "import pandas as pd\n",
    "import numpy as np\n",
    "import matplotlib.pyplot as plt\n",
    "\n",
    "pd.set_option(\"display.max_columns\", None)\n",
    "\n",
    "datas = pd.read_csv(\"../P5_06_transf_datas.csv\")\n",
    "\n",
    "datas"
   ]
  },
  {
   "cell_type": "markdown",
   "metadata": {},
   "source": [
    "Je sépare le jeu de données en un jeu d'entraînement et un de test."
   ]
  },
  {
   "cell_type": "code",
   "execution_count": null,
   "metadata": {},
   "outputs": [],
   "source": [
    "X_train = datas[\"imp_words\"]\n",
    "Y_train = datas[\"Tags\"]"
   ]
  },
  {
   "cell_type": "code",
   "execution_count": null,
   "metadata": {},
   "outputs": [],
   "source": [
    "# samples = np.random.choice(len(X_train), 5000, replace=False)\n",
    "# X_train = X_train[samples]\n",
    "# Y_train = Y_train[samples]"
   ]
  },
  {
   "cell_type": "markdown",
   "metadata": {},
   "source": [
    "Je  transforme X et y."
   ]
  },
  {
   "cell_type": "code",
   "execution_count": null,
   "metadata": {},
   "outputs": [],
   "source": [
    "# from sklearn.base import TransformerMixin\n",
    "# from sklearn.feature_extraction.text import CountVectorizer\n",
    "\n",
    "# class TfidfVectorsToArray(TransformerMixin):\n",
    "#     def fit(self, X, y=None, **fit_params):\n",
    "#         return self\n",
    "\n",
    "#     def transform(self, X, y=None, **fit_params):\n",
    "#         return X.toarray()\n",
    "\n",
    "# class YToBagOfWords(CountVectorizer):\n",
    "#     def fit(self, X= None, y= y_train, **fit_params):\n",
    "#         return super().fit(y)\n",
    "\n",
    "#     def transform(self, X= None, y= y_train, **fit_params):\n",
    "#         return super().transform(y)\n",
    "\n",
    "#     def fit_transform(self, X= None, y= y_train, **fit_params):\n",
    "#         return super().fit_transform(y)\n",
    "\n",
    "# class YToArray(TransformerMixin):\n",
    "#     def fit(self, X= None, y= y_train, **fit_params):\n",
    "#         return self\n",
    "\n",
    "#     def transform(self, X= None, y= y_train, **fit_params):\n",
    "#         return y.toarray()"
   ]
  },
  {
   "cell_type": "code",
   "execution_count": null,
   "metadata": {},
   "outputs": [],
   "source": [
    "from sklearn.feature_extraction.text import TfidfVectorizer, CountVectorizer\n",
    "from sklearn.decomposition import PCA, TruncatedSVD\n",
    "from sklearn.multiclass import OneVsRestClassifier\n",
    "from sklearn.linear_model import SGDClassifier\n",
    "from sklearn.pipeline import Pipeline\n",
    "from P5_custom_module import TfidfVectorsToArray\n",
    "\n",
    "pipeline = Pipeline(steps=[\n",
    "    # (\"count_vect\", CountVectorizer(token_pattern= r'[\\S]+')),\n",
    "    (\"tfidf\", TfidfVectorizer(token_pattern= r'[\\S]+')),\n",
    "    (\"toarray\", TfidfVectorsToArray()),\n",
    "    (\"PCA\", PCA(n_components= 1500)),\n",
    "    (\"clf\", OneVsRestClassifier(\n",
    "        SGDClassifier(loss= \"modified_huber\", class_weight= None, \n",
    "        penalty= \"l1\", alpha= 0.0001, l1_ratio= 0.15, early_stopping= True, \n",
    "        random_state= 42)))\n",
    "    ])\n",
    "\n",
    "# count_vect = CountVectorizer(token_pattern= r'[\\S]+').fit_transform(X_train)\n",
    "# x_train = TfidfTransformer().fit_transform(count_vect)\n",
    "\n",
    "# tfidf_vect = TfidfVectorizer(token_pattern= r'[\\S]+')\n",
    "\n",
    "# x_train = tfidf_vect.fit_transform(X_train).toarray()\n"
   ]
  },
  {
   "cell_type": "code",
   "execution_count": null,
   "metadata": {},
   "outputs": [],
   "source": [
    "# component = 1500\n",
    "\n",
    "# pca = PCA(n_components= component)\n",
    "# pca.fit(x_train)\n",
    "\n",
    "# pca.explained_variance_ratio_.cumsum()[-1]"
   ]
  },
  {
   "cell_type": "code",
   "execution_count": null,
   "metadata": {},
   "outputs": [],
   "source": [
    "# x_train_pca = pca.transform(x_train)\n"
   ]
  },
  {
   "cell_type": "code",
   "execution_count": null,
   "metadata": {},
   "outputs": [],
   "source": [
    "count_vect = CountVectorizer(token_pattern= r'[\\S]+', min_df= 10)\n",
    "y_train = count_vect.fit_transform(Y_train).toarray()\n"
   ]
  },
  {
   "cell_type": "code",
   "execution_count": null,
   "metadata": {},
   "outputs": [],
   "source": [
    "with open(\"tags.txt\", \"w\") as file:\n",
    "    file.write(\" \".join(count_vect.get_feature_names_out()))"
   ]
  },
  {
   "cell_type": "code",
   "execution_count": null,
   "metadata": {},
   "outputs": [],
   "source": [
    "# y_train.shape"
   ]
  },
  {
   "cell_type": "markdown",
   "metadata": {},
   "source": [
    "'score': 0.9919314591700134,\n",
    " 'loss': 'modified_huber',\n",
    " 'class_weight': None,\n",
    " 'penalty': 'l1',\n",
    " 'alpha': 0.0001,\n",
    " 'l1_ratio': 0.15"
   ]
  },
  {
   "cell_type": "code",
   "execution_count": null,
   "metadata": {},
   "outputs": [],
   "source": [
    "# from sklearn.multiclass import OneVsRestClassifier\n",
    "# from sklearn.linear_model import SGDClassifier\n",
    "\n",
    "# clf = OneVsRestClassifier(SGDClassifier(loss= \"modified_huber\", class_weight= None, \n",
    "#     penalty= \"l1\", alpha= 0.0001, l1_ratio= 0.15, early_stopping= True, \n",
    "#     random_state= 42))\n",
    "\n",
    "pipeline.fit(X_train, y_train)"
   ]
  },
  {
   "cell_type": "code",
   "execution_count": null,
   "metadata": {},
   "outputs": [],
   "source": [
    "pred = pipeline.predict_proba([\"c# don't open mysql database with windows access file \"])"
   ]
  },
  {
   "cell_type": "code",
   "execution_count": null,
   "metadata": {},
   "outputs": [],
   "source": [
    "# pred.shape"
   ]
  },
  {
   "cell_type": "code",
   "execution_count": null,
   "metadata": {},
   "outputs": [],
   "source": [
    "results_preds = np.zeros(pred.shape)\n",
    "\n",
    "pred_sorted = np.sort(pred, axis= 1)\n",
    "diff = pred_sorted[:, -1] - np.log10(pred_sorted[:, -1] +1)\n",
    "\n",
    "results_preds = np.where(pred > diff.reshape(-1, 1), 1, 0)"
   ]
  },
  {
   "cell_type": "code",
   "execution_count": null,
   "metadata": {},
   "outputs": [],
   "source": [
    "# results_preds.shape"
   ]
  },
  {
   "cell_type": "code",
   "execution_count": null,
   "metadata": {},
   "outputs": [],
   "source": [
    "with open(\"tags.txt\", \"r\") as file:\n",
    "    cols = file.read().split()\n"
   ]
  },
  {
   "cell_type": "code",
   "execution_count": null,
   "metadata": {},
   "outputs": [],
   "source": [
    "# cols = count_vect.get_feature_names_out()\n",
    "\n",
    "results_df = pd.DataFrame(results_preds, columns= cols).T.reset_index()\n",
    "\" \".join(results_df.loc[results_df[0] > 0, \"index\"].values)"
   ]
  },
  {
   "cell_type": "markdown",
   "metadata": {},
   "source": [
    "Sauvegarde du modèle"
   ]
  },
  {
   "cell_type": "code",
   "execution_count": null,
   "metadata": {},
   "outputs": [],
   "source": [
    "import joblib\n",
    "\n",
    "# joblib.dump(pipeline, \"P5_tags_prediction.sav\")"
   ]
  }
 ],
 "metadata": {
  "interpreter": {
   "hash": "c41a7b1d73be963b12274ea26e97c36183a8e874bdf8628a8c7c44cf12df08ab"
  },
  "kernelspec": {
   "display_name": "Python 3.9.9 64-bit (windows store)",
   "language": "python",
   "name": "python3"
  },
  "language_info": {
   "codemirror_mode": {
    "name": "ipython",
    "version": 3
   },
   "file_extension": ".py",
   "mimetype": "text/x-python",
   "name": "python",
   "nbconvert_exporter": "python",
   "pygments_lexer": "ipython3",
   "version": "3.9.9"
  },
  "orig_nbformat": 4
 },
 "nbformat": 4,
 "nbformat_minor": 2
}
